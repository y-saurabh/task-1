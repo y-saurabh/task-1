{
 "cells": [
  {
   "cell_type": "code",
   "execution_count": 20,
   "metadata": {},
   "outputs": [
    {
     "name": "stdout",
     "output_type": "stream",
     "text": [
      "['ichigo', 'zaraki', 'shunsui', 'yamamoto']\n",
      "['ichigo', 'zaraki', 'shunsui', 'yamamoto', 'urahara']\n",
      "['ichigo', 'bankai', 'zaraki', 'shunsui', 'yamamoto', 'urahara']\n",
      "['ichigo', 'zaraki', 'shunsui', 'yamamoto', 'urahara']\n",
      "['ichigo', 'shunsui', 'yamamoto', 'urahara']\n",
      "['ichigo', 'zaraki', 'yamamoto', 'urahara']\n"
     ]
    }
   ],
   "source": [
    "#Creating List in python\n",
    "\n",
    "#Defining list\n",
    "mylist = [\"ichigo\",\"zaraki\",\"shunsui\",\"yamamoto\"]  \n",
    "print(mylist)                                       \n",
    "\n",
    "\n",
    "#add item\n",
    "mylist.append(\"urahara\")\n",
    "print(mylist)        \n",
    "\n",
    "#adding specified index\n",
    "mylist.insert(1, \"bankai\")\n",
    "print(mylist)\n",
    "\n",
    "\n",
    "#deleting item\n",
    "mylist.remove(\"bankai\")\n",
    "print(mylist)\n",
    "\n",
    "#delete specified index\n",
    "mylist.pop(1)\n",
    "print(mylist)\n",
    "\n",
    "\n",
    "#modify list items\n",
    "mylist[1] = \"zaraki\"\n",
    "print(mylist)\n",
    "\n"
   ]
  },
  {
   "cell_type": "code",
   "execution_count": 2,
   "metadata": {},
   "outputs": [
    {
     "name": "stdout",
     "output_type": "stream",
     "text": [
      "{'name': 'arjun', 'profession': 'doctor', 'age': '34', 'height': '170'}\n",
      "{'name': 'arjun', 'profession': 'doctor', 'height': '175', 'age': '35'}\n"
     ]
    }
   ],
   "source": [
    "#creating Dictionaries in python\n",
    "\n",
    "mydict = {\n",
    "  \"name\": \"arjun\",\n",
    "  \"profession\": \"doctor\",\n",
    "  \"age\": \"34\"\n",
    "}\n",
    "#adding items\n",
    "mydict[\"height\"] = \"170\"\n",
    "print(mydict)\n",
    "\n",
    "#modify items\n",
    "mydict[\"height\"] = \"175\"\n",
    "\n",
    "#delete item\n",
    "mydict.pop(\"age\")\n",
    "\n",
    "#update\n",
    "mydict.update({\"age\": \"35\"})\n",
    "\n",
    "print(type(mydict))\n",
    "print(mydict)\n"
   ]
  },
  {
   "cell_type": "code",
   "execution_count": 5,
   "metadata": {},
   "outputs": [
    {
     "name": "stdout",
     "output_type": "stream",
     "text": [
      "{'kakashi', 'naruto', 'itachi'}\n",
      "{'kakashi', 'sasuke', 'naruto', 'itachi'}\n",
      "{'sasuke', 'naruto', 'itachi'}\n",
      "<class 'set'>\n"
     ]
    }
   ],
   "source": [
    "#Sets in python\n",
    "myset = {\"naruto\", \"itachi\", \"kakashi\"}\n",
    "print(myset)\n",
    "\n",
    "#add item in set\n",
    "myset.add(\"sasuke\")\n",
    "print(myset)\n",
    "\n",
    "#delete item in set\n",
    "myset.remove(\"kakashi\")\n",
    "print(myset)\n",
    "\n",
    "print(type(myset))\n",
    "\n",
    "\n",
    "\n",
    "\n"
   ]
  }
 ],
 "metadata": {
  "kernelspec": {
   "display_name": "Python 3",
   "language": "python",
   "name": "python3"
  },
  "language_info": {
   "codemirror_mode": {
    "name": "ipython",
    "version": 3
   },
   "file_extension": ".py",
   "mimetype": "text/x-python",
   "name": "python",
   "nbconvert_exporter": "python",
   "pygments_lexer": "ipython3",
   "version": "3.12.4"
  }
 },
 "nbformat": 4,
 "nbformat_minor": 2
}
